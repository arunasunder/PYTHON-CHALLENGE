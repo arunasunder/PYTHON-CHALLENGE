{
 "cells": [
  {
   "cell_type": "markdown",
   "metadata": {},
   "source": [
    "\n",
    "## NewsMood.py \n",
    "----\n",
    "The below code is used to create a Python script to perform sentiment analysis of the Twitter activity of various news oulets, and to present findings visually.\n",
    "\n",
    "The final output provides a visualized summary of the sentiments expressed in Tweets sent out by the following news organizations: BBC, CBS, CNN, Fox, and New York times.\n",
    "\n",
    "It shows a cursory look at the world mood according to the Twitter profiles of news agencies. In essence, the script allows one to quickly perform a sentiment analysis on the most recent tweets of any given Twitter accounts and plot the results. \n",
    "\n",
    "Notable libraries used to complete this application include: \n",
    "a) Matplotlib\n",
    "b) Pandas\n",
    "c) Tweepy\n",
    "d) VADER Sentiment Analysis and \n",
    "e) Seaborn."
   ]
  },
  {
   "cell_type": "code",
   "execution_count": 3,
   "metadata": {},
   "outputs": [],
   "source": [
    "# Dependencies\n",
    "%matplotlib inline\n",
    "import numpy as np\n",
    "import pandas as pd\n",
    "import matplotlib.pyplot as plt\n",
    "import json\n",
    "import tweepy\n",
    "import time\n",
    "import seaborn as sns\n",
    "\n",
    "# Initialize Sentiment Analyzer \n",
    "from textblob import TextBlob\n",
    "from vaderSentiment.vaderSentiment import SentimentIntensityAnalyzer\n",
    "analyzer = SentimentIntensityAnalyzer()\n",
    "\n",
    "# Twitter API Keys\n",
    "consumer_key =  \"gmNxN1oGO0x7hZ2S3aZleASHp\" #\"jCuMds8hkjry8JV8JDEuDVH9o\"\n",
    "consumer_secret =  \"KHZh1DlxV95aeOHWRvF4c4xNfBrVyk1Hg1hhMyZTP0hxIM8Nk0\" #\"psgKB7nb05kZqoD2ZFPrG78OqbObHySWUEhcLFcZ03qVMlsCwp\"\n",
    "access_token = \"106801026-nj9pKRBBbDBCfgC5LJIe0iLDfcCMTyaQ3pT7v0Vt\" #\"814999527451148288-PVho6BBmmcQbSVKOHBt3E5jbPJM6Krl\"\n",
    "access_token_secret = \"TJG5kuuafGXG7GMAuHMoGx2ynMRUcr2A6SEgsg0hwvXvl\" #\"a30jMaE70P2kefPFOzrfGTlA06okUcifkjJB9g2JWq4Ih\""
   ]
  },
  {
   "cell_type": "code",
   "execution_count": 4,
   "metadata": {},
   "outputs": [],
   "source": [
    "# Setup Tweepy API Authentication\n",
    "auth = tweepy.OAuthHandler(consumer_key, consumer_secret)\n",
    "auth.set_access_token(access_token, access_token_secret)\n",
    "api = tweepy.API(auth, parser=tweepy.parsers.JSONParser())\n",
    "\n",
    "# Select News Sources (Twitter Accounts)\n",
    "news_source = [\"FoxNews\", \"CNN\", \"BBCWorld\", \"CBSNews\", \"nytimes\"]"
   ]
  },
  {
   "cell_type": "markdown",
   "metadata": {},
   "source": [
    "## Grab Tweets"
   ]
  },
  {
   "cell_type": "code",
   "execution_count": 18,
   "metadata": {
    "scrolled": true
   },
   "outputs": [],
   "source": [
    "# Create a generic dictionary for holding all tweet information\n",
    "tweet_data = {\n",
    "    \"tweet_source\": [],\n",
    "    \"tweet_text\": [],\n",
    "    \"tweet_date\": [],\n",
    "    \"tweet_vader_score\": [],\n",
    "    \"tweet_neg_score\": [],\n",
    "    \"tweet_pos_score\": [],\n",
    "    \"tweet_neu_score\": []\n",
    "}\n",
    "\n",
    "# Grab 100 tweets from each site (total 500)\n",
    "for x in range(5):\n",
    "\n",
    "    # Loop through all news sources\n",
    "    for source in news_source:\n",
    "\n",
    "        # Grab the tweets\n",
    "        tweets = api.user_timeline(source, page=x)\n",
    "\n",
    "        # For each tweet store it into the dictionary\n",
    "        for tweet in tweets:\n",
    "            \n",
    "            # All data is grabbed from the JSON returned by Twitter\n",
    "            tweet_data[\"tweet_source\"].append(tweet[\"user\"][\"name\"])\n",
    "            tweet_data[\"tweet_text\"].append(tweet[\"text\"])\n",
    "            tweet_data[\"tweet_date\"].append(tweet[\"created_at\"])\n",
    "\n",
    "            # Run sentiment analysis on each tweet using Vader\n",
    "            tweet_data[\"tweet_vader_score\"].append(analyzer.polarity_scores(tweet[\"text\"])[\"compound\"])\n",
    "            tweet_data[\"tweet_pos_score\"].append(analyzer.polarity_scores(tweet[\"text\"])[\"pos\"])\n",
    "            tweet_data[\"tweet_neu_score\"].append(analyzer.polarity_scores(tweet[\"text\"])[\"neu\"])\n",
    "            tweet_data[\"tweet_neg_score\"].append(analyzer.polarity_scores(tweet[\"text\"])[\"neg\"])"
   ]
  },
  {
   "cell_type": "code",
   "execution_count": 19,
   "metadata": {},
   "outputs": [
    {
     "data": {
      "text/html": [
       "<div>\n",
       "<style>\n",
       "    .dataframe thead tr:only-child th {\n",
       "        text-align: right;\n",
       "    }\n",
       "\n",
       "    .dataframe thead th {\n",
       "        text-align: left;\n",
       "    }\n",
       "\n",
       "    .dataframe tbody tr th {\n",
       "        vertical-align: top;\n",
       "    }\n",
       "</style>\n",
       "<table border=\"1\" class=\"dataframe\">\n",
       "  <thead>\n",
       "    <tr style=\"text-align: right;\">\n",
       "      <th></th>\n",
       "      <th>tweet_source</th>\n",
       "      <th>tweet_text</th>\n",
       "      <th>tweet_date</th>\n",
       "      <th>tweet_vader_score</th>\n",
       "      <th>tweet_pos_score</th>\n",
       "      <th>tweet_neu_score</th>\n",
       "      <th>tweet_neg_score</th>\n",
       "    </tr>\n",
       "  </thead>\n",
       "  <tbody>\n",
       "    <tr>\n",
       "      <th>0</th>\n",
       "      <td>Fox News</td>\n",
       "      <td>Tim Pawlenty announces he's running for his ol...</td>\n",
       "      <td>Thu Apr 05 21:05:13 +0000 2018</td>\n",
       "      <td>0.0000</td>\n",
       "      <td>0.000</td>\n",
       "      <td>1.000</td>\n",
       "      <td>0.000</td>\n",
       "    </tr>\n",
       "    <tr>\n",
       "      <th>1</th>\n",
       "      <td>Fox News</td>\n",
       "      <td>.@RepAndyBiggsAZ on budget bill: \"I don’t thin...</td>\n",
       "      <td>Thu Apr 05 20:57:55 +0000 2018</td>\n",
       "      <td>0.7165</td>\n",
       "      <td>0.249</td>\n",
       "      <td>0.751</td>\n",
       "      <td>0.000</td>\n",
       "    </tr>\n",
       "    <tr>\n",
       "      <th>2</th>\n",
       "      <td>Fox News</td>\n",
       "      <td>.@POTUS looking to cut billions in spending fr...</td>\n",
       "      <td>Thu Apr 05 20:56:01 +0000 2018</td>\n",
       "      <td>-0.2732</td>\n",
       "      <td>0.000</td>\n",
       "      <td>0.890</td>\n",
       "      <td>0.110</td>\n",
       "    </tr>\n",
       "    <tr>\n",
       "      <th>3</th>\n",
       "      <td>Fox News</td>\n",
       "      <td>Judicial Watch's Farrell on Nunes' Threat to S...</td>\n",
       "      <td>Thu Apr 05 20:36:18 +0000 2018</td>\n",
       "      <td>-0.5267</td>\n",
       "      <td>0.000</td>\n",
       "      <td>0.825</td>\n",
       "      <td>0.175</td>\n",
       "    </tr>\n",
       "    <tr>\n",
       "      <th>4</th>\n",
       "      <td>Fox News</td>\n",
       "      <td>OPINION: @POTUS and the US need Scott Pruitt t...</td>\n",
       "      <td>Thu Apr 05 20:27:44 +0000 2018</td>\n",
       "      <td>0.0000</td>\n",
       "      <td>0.000</td>\n",
       "      <td>1.000</td>\n",
       "      <td>0.000</td>\n",
       "    </tr>\n",
       "  </tbody>\n",
       "</table>\n",
       "</div>"
      ],
      "text/plain": [
       "  tweet_source                                         tweet_text  \\\n",
       "0     Fox News  Tim Pawlenty announces he's running for his ol...   \n",
       "1     Fox News  .@RepAndyBiggsAZ on budget bill: \"I don’t thin...   \n",
       "2     Fox News  .@POTUS looking to cut billions in spending fr...   \n",
       "3     Fox News  Judicial Watch's Farrell on Nunes' Threat to S...   \n",
       "4     Fox News  OPINION: @POTUS and the US need Scott Pruitt t...   \n",
       "\n",
       "                       tweet_date  tweet_vader_score  tweet_pos_score  \\\n",
       "0  Thu Apr 05 21:05:13 +0000 2018             0.0000            0.000   \n",
       "1  Thu Apr 05 20:57:55 +0000 2018             0.7165            0.249   \n",
       "2  Thu Apr 05 20:56:01 +0000 2018            -0.2732            0.000   \n",
       "3  Thu Apr 05 20:36:18 +0000 2018            -0.5267            0.000   \n",
       "4  Thu Apr 05 20:27:44 +0000 2018             0.0000            0.000   \n",
       "\n",
       "   tweet_neu_score  tweet_neg_score  \n",
       "0            1.000            0.000  \n",
       "1            0.751            0.000  \n",
       "2            0.890            0.110  \n",
       "3            0.825            0.175  \n",
       "4            1.000            0.000  "
      ]
     },
     "execution_count": 19,
     "metadata": {},
     "output_type": "execute_result"
    }
   ],
   "source": [
    "# Store the final contents into a DataFrame\n",
    "tweet_df = pd.DataFrame(tweet_data, columns=[\"tweet_source\", \n",
    "                                             \"tweet_text\", \n",
    "                                             \"tweet_date\",\n",
    "                                             \"tweet_vader_score\",\n",
    "                                             \"tweet_pos_score\",\n",
    "                                             \"tweet_neu_score\",\n",
    "                                             \"tweet_neg_score\"])\n",
    "\n",
    "# Export to CSV\n",
    "file_name = str(time.strftime(\"a_newsfeed_%m-%d-%y\")) + \"-tweets.csv\"\n",
    "tweet_df.to_csv(\"analysis/\" + file_name, encoding=\"utf-8\")\n",
    "\n",
    "# Visualize the DataFrame\n",
    "tweet_df.head()"
   ]
  },
  {
   "cell_type": "code",
   "execution_count": 20,
   "metadata": {},
   "outputs": [
    {
     "data": {
      "text/plain": [
       "tweet_source         500\n",
       "tweet_text           500\n",
       "tweet_date           500\n",
       "tweet_vader_score    500\n",
       "tweet_pos_score      500\n",
       "tweet_neu_score      500\n",
       "tweet_neg_score      500\n",
       "dtype: int64"
      ]
     },
     "execution_count": 20,
     "metadata": {},
     "output_type": "execute_result"
    }
   ],
   "source": [
    "# Count the total number of tweets\n",
    "tweet_df.count()"
   ]
  },
  {
   "cell_type": "code",
   "execution_count": 21,
   "metadata": {},
   "outputs": [
    {
     "data": {
      "text/plain": [
       "array(['Fox News', 'CNN', 'BBC News (World)', 'CBS News',\n",
       "       'The New York Times'], dtype=object)"
      ]
     },
     "execution_count": 21,
     "metadata": {},
     "output_type": "execute_result"
    }
   ],
   "source": [
    "# Obtain the source names for reference\n",
    "tweet_df[\"tweet_source\"].unique()"
   ]
  },
  {
   "cell_type": "code",
   "execution_count": 22,
   "metadata": {},
   "outputs": [
    {
     "data": {
      "text/html": [
       "<div>\n",
       "<style>\n",
       "    .dataframe thead tr:only-child th {\n",
       "        text-align: right;\n",
       "    }\n",
       "\n",
       "    .dataframe thead th {\n",
       "        text-align: left;\n",
       "    }\n",
       "\n",
       "    .dataframe tbody tr th {\n",
       "        vertical-align: top;\n",
       "    }\n",
       "</style>\n",
       "<table border=\"1\" class=\"dataframe\">\n",
       "  <thead>\n",
       "    <tr style=\"text-align: right;\">\n",
       "      <th></th>\n",
       "      <th>tweet_source</th>\n",
       "      <th>tweet_text</th>\n",
       "      <th>tweet_date</th>\n",
       "      <th>tweet_vader_score</th>\n",
       "      <th>tweet_pos_score</th>\n",
       "      <th>tweet_neu_score</th>\n",
       "      <th>tweet_neg_score</th>\n",
       "    </tr>\n",
       "  </thead>\n",
       "  <tbody>\n",
       "    <tr>\n",
       "      <th>0</th>\n",
       "      <td>BBC News (World)</td>\n",
       "      <td>Sesame street theme park receives world's firs...</td>\n",
       "      <td>2018-04-04 11:38:43</td>\n",
       "      <td>0.0</td>\n",
       "      <td>0.0</td>\n",
       "      <td>1.0</td>\n",
       "      <td>0.0</td>\n",
       "    </tr>\n",
       "    <tr>\n",
       "      <th>1</th>\n",
       "      <td>BBC News (World)</td>\n",
       "      <td>RT @BBCSport: An array of colours on display a...</td>\n",
       "      <td>2018-04-04 12:24:35</td>\n",
       "      <td>0.0</td>\n",
       "      <td>0.0</td>\n",
       "      <td>1.0</td>\n",
       "      <td>0.0</td>\n",
       "    </tr>\n",
       "    <tr>\n",
       "      <th>2</th>\n",
       "      <td>BBC News (World)</td>\n",
       "      <td>Facebook's Zuckerberg to testify before US com...</td>\n",
       "      <td>2018-04-04 12:55:53</td>\n",
       "      <td>0.0</td>\n",
       "      <td>0.0</td>\n",
       "      <td>1.0</td>\n",
       "      <td>0.0</td>\n",
       "    </tr>\n",
       "    <tr>\n",
       "      <th>3</th>\n",
       "      <td>BBC News (World)</td>\n",
       "      <td>China human rights: Wife marches for 'vanished...</td>\n",
       "      <td>2018-04-04 14:17:50</td>\n",
       "      <td>0.0</td>\n",
       "      <td>0.0</td>\n",
       "      <td>1.0</td>\n",
       "      <td>0.0</td>\n",
       "    </tr>\n",
       "    <tr>\n",
       "      <th>4</th>\n",
       "      <td>BBC News (World)</td>\n",
       "      <td>Saving animals using space technology 🐘 🦏🦒🔭\\n\\...</td>\n",
       "      <td>2018-04-04 14:35:46</td>\n",
       "      <td>0.0</td>\n",
       "      <td>0.0</td>\n",
       "      <td>1.0</td>\n",
       "      <td>0.0</td>\n",
       "    </tr>\n",
       "  </tbody>\n",
       "</table>\n",
       "</div>"
      ],
      "text/plain": [
       "       tweet_source                                         tweet_text  \\\n",
       "0  BBC News (World)  Sesame street theme park receives world's firs...   \n",
       "1  BBC News (World)  RT @BBCSport: An array of colours on display a...   \n",
       "2  BBC News (World)  Facebook's Zuckerberg to testify before US com...   \n",
       "3  BBC News (World)  China human rights: Wife marches for 'vanished...   \n",
       "4  BBC News (World)  Saving animals using space technology 🐘 🦏🦒🔭\\n\\...   \n",
       "\n",
       "           tweet_date  tweet_vader_score  tweet_pos_score  tweet_neu_score  \\\n",
       "0 2018-04-04 11:38:43                0.0              0.0              1.0   \n",
       "1 2018-04-04 12:24:35                0.0              0.0              1.0   \n",
       "2 2018-04-04 12:55:53                0.0              0.0              1.0   \n",
       "3 2018-04-04 14:17:50                0.0              0.0              1.0   \n",
       "4 2018-04-04 14:35:46                0.0              0.0              1.0   \n",
       "\n",
       "   tweet_neg_score  \n",
       "0              0.0  \n",
       "1              0.0  \n",
       "2              0.0  \n",
       "3              0.0  \n",
       "4              0.0  "
      ]
     },
     "execution_count": 22,
     "metadata": {},
     "output_type": "execute_result"
    }
   ],
   "source": [
    "# Convert dates (currently strings) into datetimes\n",
    "tweet_df[\"tweet_date\"] = pd.to_datetime(tweet_df[\"tweet_date\"])\n",
    "\n",
    "# Sort the dataframe by date\n",
    "tweet_df.sort_values(\"tweet_date\", inplace=True)\n",
    "tweet_df.reset_index(drop=True, inplace=True)\n",
    "\n",
    "# Preview the data to confirm data is sorted\n",
    "tweet_df.head()"
   ]
  },
  {
   "cell_type": "markdown",
   "metadata": {},
   "source": [
    "## Sentiment Scatter Plot"
   ]
  },
  {
   "cell_type": "code",
   "execution_count": 25,
   "metadata": {
    "scrolled": false
   },
   "outputs": [
    {
     "data": {
      "image/png": "[encoded data removed]",
      "text/plain": [
       "<matplotlib.figure.Figure at 0x111ac8908>"
      ]
     },
     "metadata": {},
     "output_type": "display_data"
    }
   ],
   "source": [
    "# Build scatter plot for tracking tweet polarity by tweet history\n",
    "# Note how a few data munging tricks were used to obtain (-100 -> 0 tick marks)\n",
    "plt.scatter(np.arange(-len(tweet_df[tweet_df[\"tweet_source\"] == \"BBC News (World)\"]), 0, 1), \n",
    "            tweet_df[tweet_df[\"tweet_source\"] == \"BBC News (World)\"][\"tweet_vader_score\"],\n",
    "            edgecolor=\"black\", linewidths=1, marker=\"o\", color=\"skyblue\", s=75,\n",
    "            alpha=0.8, label=\"BBC\")\n",
    "\n",
    "plt.scatter(np.arange(-len(tweet_df[tweet_df[\"tweet_source\"] == \"CBS News\"]), 0, 1), \n",
    "            tweet_df[tweet_df[\"tweet_source\"] == \"CBS News\"][\"tweet_vader_score\"],\n",
    "            edgecolor=\"black\", linewidths=1, marker=\"o\", color=\"green\", s=75,\n",
    "            alpha=0.8, label=\"CBS\")\n",
    "\n",
    "plt.scatter(np.arange(-len(tweet_df[tweet_df[\"tweet_source\"] == \"CNN\"]), 0, 1), \n",
    "            tweet_df[tweet_df[\"tweet_source\"] == \"CNN\"][\"tweet_vader_score\"],\n",
    "            edgecolor=\"black\", linewidths=1, marker=\"o\", color=\"red\", s=75,\n",
    "            alpha=0.8, label=\"CNN\")\n",
    "\n",
    "plt.scatter(np.arange(-len(tweet_df[tweet_df[\"tweet_source\"] == \"Fox News\"]), 0, 1), \n",
    "            tweet_df[tweet_df[\"tweet_source\"] == \"Fox News\"][\"tweet_vader_score\"],\n",
    "            edgecolor=\"black\", linewidths=1, marker=\"o\", color=\"b\", s=75,\n",
    "            alpha=0.8, label=\"Fox\")\n",
    "\n",
    "plt.scatter(np.arange(-len(tweet_df[tweet_df[\"tweet_source\"] == \"The New York Times\"]), 0, 1), \n",
    "            tweet_df[tweet_df[\"tweet_source\"] == \"The New York Times\"][\"tweet_vader_score\"],\n",
    "            edgecolor=\"black\", linewidths=1, marker=\"o\", color=\"gold\", s=75,\n",
    "            alpha=0.8, label=\"New York Times\")\n",
    "\n",
    "# Incorporate the other graph properties\n",
    "plt.title(\"Sentiment Analysis of Media Tweets (%s)\" % time.strftime(\"%x\"))\n",
    "plt.ylabel(\"Tweet Polarity\")\n",
    "plt.xlabel(\"Tweets Ago\")\n",
    "plt.xlim([-105, 5])\n",
    "plt.xticks([-100, -80, -60, -40, -20, 0], [100, 80, 60, 40, 20, 0])\n",
    "plt.ylim([-1.05, 1.05])\n",
    "plt.grid(True)\n",
    "\n",
    "# Create a legend\n",
    "lgnd = plt.legend(fontsize=\"small\", mode=\"Expanded\", \n",
    "                  numpoints=1, scatterpoints=1, \n",
    "                  loc=\"upper left\", bbox_to_anchor=(1,1), title=\"Media Sources\", \n",
    "                  labelspacing=0.5)\n",
    "\n",
    "# Save the figure (and account for the legend being outside the plot when saving)\n",
    "file_name = str(time.strftime(\"a_scatterplot_%m-%d-%y\")) + \"-Fig1.png\"\n",
    "plt.savefig(\"analysis/\" + file_name, bbox_extra_artists=(lgnd, ), bbox_inches='tight')\n",
    "\n",
    "# Show plot\n",
    "plt.show()"
   ]
  },
  {
   "cell_type": "markdown",
   "metadata": {},
   "source": [
    "## Overall Sentiment Bar Graph"
   ]
  },
  {
   "cell_type": "code",
   "execution_count": 26,
   "metadata": {},
   "outputs": [
    {
     "data": {
      "text/html": [
       "<div>\n",
       "<style>\n",
       "    .dataframe thead tr:only-child th {\n",
       "        text-align: right;\n",
       "    }\n",
       "\n",
       "    .dataframe thead th {\n",
       "        text-align: left;\n",
       "    }\n",
       "\n",
       "    .dataframe tbody tr th {\n",
       "        vertical-align: top;\n",
       "    }\n",
       "</style>\n",
       "<table border=\"1\" class=\"dataframe\">\n",
       "  <thead>\n",
       "    <tr style=\"text-align: right;\">\n",
       "      <th></th>\n",
       "      <th>tweet_vader_score</th>\n",
       "    </tr>\n",
       "    <tr>\n",
       "      <th>tweet_source</th>\n",
       "      <th></th>\n",
       "    </tr>\n",
       "  </thead>\n",
       "  <tbody>\n",
       "    <tr>\n",
       "      <th>BBC News (World)</th>\n",
       "      <td>-0.146032</td>\n",
       "    </tr>\n",
       "    <tr>\n",
       "      <th>CBS News</th>\n",
       "      <td>-0.127369</td>\n",
       "    </tr>\n",
       "    <tr>\n",
       "      <th>CNN</th>\n",
       "      <td>-0.078080</td>\n",
       "    </tr>\n",
       "    <tr>\n",
       "      <th>Fox News</th>\n",
       "      <td>-0.078398</td>\n",
       "    </tr>\n",
       "    <tr>\n",
       "      <th>The New York Times</th>\n",
       "      <td>-0.122094</td>\n",
       "    </tr>\n",
       "  </tbody>\n",
       "</table>\n",
       "</div>"
      ],
      "text/plain": [
       "                    tweet_vader_score\n",
       "tweet_source                         \n",
       "BBC News (World)            -0.146032\n",
       "CBS News                    -0.127369\n",
       "CNN                         -0.078080\n",
       "Fox News                    -0.078398\n",
       "The New York Times          -0.122094"
      ]
     },
     "execution_count": 26,
     "metadata": {},
     "output_type": "execute_result"
    }
   ],
   "source": [
    "# Average all polarities by news source\n",
    "tweet_df_polarity = tweet_df.groupby([\"tweet_source\"]).mean()[\"tweet_vader_score\"]\n",
    "\n",
    "# View the polarities\n",
    "pd.DataFrame(tweet_df_polarity)"
   ]
  },
  {
   "cell_type": "code",
   "execution_count": 28,
   "metadata": {
    "scrolled": false
   },
   "outputs": [
    {
     "name": "stderr",
     "output_type": "stream",
     "text": [
      "/Users/arunasundaresh/anaconda3/envs/PythonData/lib/python3.6/site-packages/matplotlib/figure.py:418: UserWarning: matplotlib is currently using a non-GUI backend, so cannot show the figure\n",
      "  \"matplotlib is currently using a non-GUI backend, \"\n"
     ]
    },
    {
     "data": {
      "image/png": "[encoded data removed]",
      "text/plain": [
       "<matplotlib.figure.Figure at 0x1a19dc8080>"
      ]
     },
     "metadata": {},
     "output_type": "display_data"
    }
   ],
   "source": [
    "# Store all polarities in a tuple\n",
    "tweets_polarity = (tweet_df_polarity[\"BBC News (World)\"], \n",
    "                    tweet_df_polarity[\"CBS News\"], \n",
    "                    tweet_df_polarity[\"CNN\"], \n",
    "                    tweet_df_polarity[\"Fox News\"],\n",
    "                    tweet_df_polarity[\"The New York Times\"])\n",
    "\n",
    "# Generate bars for each news source\n",
    "fig, ax = plt.subplots()\n",
    "ind = np.arange(len(tweets_polarity))  \n",
    "width = 1\n",
    "rect1 = ax.bar(ind[0], tweets_polarity[0], width, color=\"skyblue\")\n",
    "rect2 = ax.bar(ind[1], tweets_polarity[1], width, color=\"green\")\n",
    "rect3 = ax.bar(ind[2], tweets_polarity[2], width, color=\"red\")\n",
    "rect4 = ax.bar(ind[3], tweets_polarity[3], width, color='blue')\n",
    "rect5 = ax.bar(ind[4], tweets_polarity[4], width, color='gold')\n",
    "\n",
    "# Generate labels for each news source\n",
    "def autolabelpos(rects):\n",
    "    # attach some text labels\n",
    "    for rect in rects:\n",
    "        height = rect.get_height()\n",
    "        ax.text(rect.get_x() + rect.get_width()/2., 1*height,\n",
    "                '+%.2f' % float(height),\n",
    "                ha='center', va='bottom')\n",
    "\n",
    "def autolabelneg(rects):\n",
    "    # attach some text labels\n",
    "    for rect in rects:\n",
    "        height = rect.get_height()\n",
    "        ax.text(rect.get_x() + rect.get_width()/2., -1*height-0.015,\n",
    "                '-%.2f' % float(height),\n",
    "                ha='center', va='bottom')\n",
    "    \n",
    "autolabelpos(rect1)\n",
    "autolabelneg(rect2)\n",
    "autolabelneg(rect3)\n",
    "autolabelpos(rect4)\n",
    "autolabelneg(rect5)\n",
    "\n",
    "# Orient widths, add labels, tick marks, etc. \n",
    "ax.set_ylabel(\"Tweet Polarity\")\n",
    "ax.set_title(\"Overall Media Sentiment based on Twitter (%s) \" % (time.strftime(\"%x\")))\n",
    "ax.set_xticks(ind + 0.5)\n",
    "ax.set_xticklabels((\"BBC\", \"CBS\", \"CNN\", \"Fox\", \"NYT\"))\n",
    "ax.set_autoscaley_on(True)\n",
    "ax.grid(False)\n",
    "\n",
    "# Save Figure\n",
    "file_name = str(time.strftime(\"a_barplot_%m-%d-%y\")) + \"-Fig2.png\"\n",
    "plt.savefig(\"analysis/\" + file_name, bbox_extra_artists=(lgnd, ), bbox_inches='tight')\n",
    "\n",
    "# Show Figure\n",
    "fig.show()"
   ]
  }
 ],
 "metadata": {
  "anaconda-cloud": {},
  "kernelspec": {
   "display_name": "Python 3",
   "language": "python",
   "name": "python3"
  },
  "language_info": {
   "codemirror_mode": {
    "name": "ipython",
    "version": 3
   },
   "file_extension": ".py",
   "mimetype": "text/x-python",
   "name": "python",
   "nbconvert_exporter": "python",
   "pygments_lexer": "ipython3",
   "version": "3.6.3"
  }
 },
 "nbformat": 4,
 "nbformat_minor": 1
}
