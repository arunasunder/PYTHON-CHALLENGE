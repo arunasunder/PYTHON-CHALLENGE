{
 "cells": [
  {
   "cell_type": "code",
   "execution_count": null,
   "metadata": {},
   "outputs": [],
   "source": [
    "# Dependencies\n",
    "import matplotlib.pyplot as plt\n",
    "import pandas as pd\n",
    "#from IPython.display import display\n",
    "#from pandas.tools.plotting import table\n",
    "\n",
    "#import tabulate\n",
    "#import pandas.plotting.table as table\n",
    "import numpy as np\n",
    "import os "
   ]
  },
  {
   "cell_type": "code",
   "execution_count": null,
   "metadata": {},
   "outputs": [],
   "source": [
    "# load CSV files \n",
    "schoolsCSV = os.path.join('raw_data', 'schools_complete.csv')\n",
    "\n",
    "schools_pd = pd.read_csv(schoolsCSV, encoding=\"iso-8859-1\", low_memory=False)\n",
    "schools_pd.head(20)"
   ]
  },
  {
   "cell_type": "code",
   "execution_count": null,
   "metadata": {},
   "outputs": [],
   "source": [
    "#Load Student CSV file \n",
    "studentsCSV = os.path.join('raw_data', 'students_complete.csv')\n",
    "\n",
    "students_pd = pd.read_csv(studentsCSV, encoding=\"iso-8859-1\", low_memory=False)\n",
    "students_pd.head()"
   ]
  },
  {
   "cell_type": "code",
   "execution_count": null,
   "metadata": {},
   "outputs": [],
   "source": [
    "#cleanse of any empty rows in students\n",
    "students_pd.columns\n",
    "students = students_pd.dropna(how=\"any\")\n",
    "students.head()"
   ]
  },
  {
   "cell_type": "code",
   "execution_count": null,
   "metadata": {},
   "outputs": [],
   "source": [
    "#Clean up any rows with empty values in schools data\n",
    "school_count = schools_pd.dropna(how=\"any\")\n",
    "\n",
    "school_count.head()"
   ]
  },
  {
   "cell_type": "code",
   "execution_count": null,
   "metadata": {},
   "outputs": [],
   "source": [
    "school_count.columns\n",
    "students.columns"
   ]
  },
  {
   "cell_type": "code",
   "execution_count": null,
   "metadata": {},
   "outputs": [],
   "source": [
    "#Get Total Number of school \n",
    "NumberOfSchools = len(school_count)\n",
    "print(NumberOfSchools)\n",
    "\n",
    "\n",
    "#get Total number of students \n",
    "TotalStudents = school_count['size'].sum()\n",
    "print(TotalStudents)\n",
    "\n",
    "#Get Total Budget\n",
    "TotalBudget = school_count['budget'].sum()\n",
    "print(TotalBudget)"
   ]
  },
  {
   "cell_type": "code",
   "execution_count": null,
   "metadata": {},
   "outputs": [],
   "source": [
    "#student_schoolcount = students_pd[\"school\"].value_counts()\n",
    "#student_schoolcount\n",
    "\n",
    "#Find average math score \n",
    "average_MathScore = students[\"math_score\"].mean()\n",
    "print(average_MathScore)\n",
    "\n",
    "#Find average reading score \n",
    "average_ReadingScore = students[\"reading_score\"].mean()\n",
    "print(average_ReadingScore)\n",
    "\n",
    "#Lets assume a passing score is 60 and above for Math \n",
    "passed_math = students.loc[students[\"math_score\"] >= 60]\n",
    "passed_math.head()\n",
    "\n",
    "#Find Percent of Students who had passed math\n",
    "passed_math_count = passed_math[\"name\"].count()\n",
    "print(passed_math_count)\n",
    "\n",
    "#For reading calculate the same - Lets assume a passing rate of 65 for reading\n",
    "passed_reading = students.loc[students[\"reading_score\"] >= 65]\n",
    "print(passed_reading.head())\n",
    "\n",
    "#Find Percent of Students who had passed math\n",
    "passed_reading_count = passed_reading[\"name\"].count()\n",
    "print(passed_reading_count)"
   ]
  },
  {
   "cell_type": "code",
   "execution_count": null,
   "metadata": {},
   "outputs": [],
   "source": [
    "# Calculate percentage of students passign math and similarly for reading . Then calculate overall percentage \n",
    "math_percent = (passed_math_count/TotalStudents) * 100\n",
    "print(math_percent)\n",
    "reading_percent = (passed_reading_count/TotalStudents) * 100\n",
    "print(reading_percent)\n",
    "\n",
    "overall_passing_rate = ((math_percent + reading_percent)/2) \n",
    "print( overall_passing_rate )\n",
    "#print(f\" % Male: {male_percent}\\n % Female: {female_percent}\\n % non_specifc: {non_gender_specific}\")"
   ]
  },
  {
   "cell_type": "code",
   "execution_count": null,
   "metadata": {},
   "outputs": [],
   "source": [
    "# Create a new table consolodating above calculations\n",
    "district_summary = pd.DataFrame({\"Total Schools\": [NumberOfSchools],\n",
    "                                   \"Total Students\": [TotalStudents],\n",
    "                                   \"Total Budget\": [TotalBudget],\n",
    "                                   \"Average Math Score\": [average_MathScore],\n",
    "                                   \"Average Reading Score\": [average_ReadingScore],\n",
    "                                   \"% Passing Math\":[math_percent],\n",
    "                                   \"% Passing Reading\":[reading_percent],\n",
    "                                   \"% Overall Passing Rate\": [ overall_passing_rate ]\n",
    "})\n",
    "district_summary  = district_summary [[\"Total Schools\",\n",
    "                                   \"Total Students\",\n",
    "                                   \"Total Budget\",\n",
    "                                   \"Average Math Score\",\n",
    "                                   \"Average Reading Score\",\n",
    "                                   \"% Passing Math\",\n",
    "                                   \"% Passing Reading\",\n",
    "                                   \"% Overall Passing Rate\"]]\n",
    "\n",
    "district_summary  = district_summary.round(2)\n",
    "\n",
    "#district_summary "
   ]
  },
  {
   "cell_type": "code",
   "execution_count": null,
   "metadata": {},
   "outputs": [],
   "source": [
    "# Formatting to be done to certain columns as per sample PDF shown \n",
    "district_summary[\"Total Students\"] = district_summary[\"Total Students\"].map(\"{0:,.0f}\".format)\n",
    "district_summary[\"Total Budget\"] = district_summary[\"Total Budget\"].map(\"${0:,.2f}\".format)\n",
    "print (\"District Summary\")\n",
    "district_summary\n",
    "#district_summary.dtypes"
   ]
  },
  {
   "cell_type": "code",
   "execution_count": null,
   "metadata": {},
   "outputs": [],
   "source": [
    "#For School Summary \n",
    "\n",
    "# Take only columns we need from school_count\n",
    "reduced_school_count = school_count.loc[:, ['name','type','size', 'budget']]\n",
    "reduced_school_count.head()"
   ]
  },
  {
   "cell_type": "code",
   "execution_count": null,
   "metadata": {},
   "outputs": [],
   "source": [
    "reduced_school_count = reduced_school_count.rename(columns={\"name\":\"school\", \n",
    "                                                            \"type\":\"School Type\", \n",
    "                                                            \"size\":\"Total Students\", \n",
    "                                                            \"budget\":\"Total School Budget\",\n",
    "                                                                 })\n",
    "reduced_school_count\n",
    "\n",
    "#district_summary.keys() \n",
    "#print (district_summary.to_html())\n",
    "\n",
    "#ax = plt.subplot(111, frame_on=True) # no visible frame\n",
    "#ax.xaxis.set_visible(False)  # hide the x axis\n",
    "#ax.yaxis.set_visible(False)  # hide the y axis\n",
    "\n",
    "#show_summary = table(ax, district_summary)  # where df is your data frame\n",
    "#show_summary\n",
    "\n",
    "#plt.savefig('mytable.png')\n",
    "\n",
    "#print tabulate(district_summary, district_summary.keys() , tablefmt='psql')"
   ]
  },
  {
   "cell_type": "code",
   "execution_count": null,
   "metadata": {},
   "outputs": [],
   "source": [
    "# Calculate percentage of eac bootcamp's students who are recommenders\n",
    "reduced_school_count[\"Per Student Budget\"] = reduced_school_count[\"Total School Budget\"] / reduced_school_count[\"Total Students\"]\n",
    "\n",
    "# Format for $ values for the Budget columns\n",
    "reduced_school_count[\"Per Student Budget\"] = reduced_school_count[\"Per Student Budget\"].map(\"${0:,.2f}\".format)\n",
    "reduced_school_count[\"Total School Budget\"] = reduced_school_count[\"Total School Budget\"].map(\"${0:,.2f}\".format)\n",
    "\n",
    "reduced_school_count.head()"
   ]
  },
  {
   "cell_type": "code",
   "execution_count": null,
   "metadata": {},
   "outputs": [],
   "source": [
    "# Take only columns we need from school_count\n",
    "#name\tgender\tgrade\tschool\treading_score\tmath_score\n",
    "reduced_student_columns = students.loc[:, ['school','reading_score', 'math_score']]\n",
    "reduced_student_columns.head()\n",
    "\n"
   ]
  },
  {
   "cell_type": "code",
   "execution_count": null,
   "metadata": {},
   "outputs": [],
   "source": [
    "# Group By Schools and Find Average reading score\n",
    "AverageMathScore_BySchool = pd.DataFrame(reduced_student_columns.groupby(\"school\")[\"math_score\"].mean())\n",
    "\n",
    "AverageMathScore_BySchool.reset_index(inplace=True)\n",
    "AverageMathScore_BySchool.columns=[\"school\", \"Average Math Score\"]\n",
    "\n",
    "AverageMathScore_BySchool.head()"
   ]
  },
  {
   "cell_type": "code",
   "execution_count": null,
   "metadata": {},
   "outputs": [],
   "source": [
    "# Create a groupby variable that groups preTestScores by regiment\n",
    "#groupby_schools = students['reading_score'].groupby(students['school'])\n",
    "#groupby_schools.mean()\n",
    "\n",
    "# Group By Schools and Find Average reading score\n",
    "AverageReadingScore_BySchool = pd.DataFrame(reduced_student_columns.groupby(\"school\")[\"reading_score\"].mean())\n",
    "\n",
    "AverageReadingScore_BySchool.reset_index(inplace=True)\n",
    "AverageReadingScore_BySchool.columns=[\"school\", \"Average Reading Score\"]\n",
    "\n",
    "AverageReadingScore_BySchool.head()"
   ]
  },
  {
   "cell_type": "code",
   "execution_count": null,
   "metadata": {},
   "outputs": [],
   "source": [
    "# Merge the two created data frames on the name of tbe school\n",
    "merged_scores = pd.merge(AverageMathScore_BySchool , AverageReadingScore_BySchool, on=\"school\")\n",
    "merged_scores.head()\n",
    "\n",
    "#Students_InEachSchool = reduced_student_columns[\"school\"].value_counts()\n",
    "#Students_InEachSchool"
   ]
  },
  {
   "cell_type": "code",
   "execution_count": null,
   "metadata": {},
   "outputs": [],
   "source": [
    "# The pass score for Math is always assumed to be 60 and\n",
    "# the pass score for reading is always taken at 65\n",
    "\n",
    "# Group By Schools and Find Pass Math Count \n",
    "BySchool_MathPass = reduced_student_columns[reduced_student_columns['math_score'] >= 60].groupby('school')['math_score'].count()\n",
    "\n",
    "#Group_BySchool = reduced_student_columns.groupby([\"school\"])  #grouped_usa_df = usa_ufo_df.groupby([\"state\"])\n",
    "BySchool_MathPassCount = pd.DataFrame (BySchool_MathPass)\n",
    "BySchool_MathPassCount.reset_index(level = 0, inplace = True) # df.reset_index(level=0, inplace=True)\n",
    "#BySchool_MathPassCount.columns = [\"school\", \"Math Pass Count \"]\n",
    "BySchool_MathPassCount.head()\n"
   ]
  },
  {
   "cell_type": "code",
   "execution_count": null,
   "metadata": {},
   "outputs": [],
   "source": [
    "#Now find the Reading Pass Count \n",
    "BySchool_ReadPass = reduced_student_columns[reduced_student_columns['reading_score'] >= 65].groupby('school')['reading_score'].count()\n",
    "\n",
    "#Group_BySchool = reduced_student_columns.groupby([\"school\"])  \n",
    "BySchool_ReadPassCount = pd.DataFrame (BySchool_ReadPass)\n",
    "BySchool_ReadPassCount.reset_index(level = 0, inplace = True) # Ensure we make the index also a column \n",
    "\n",
    "BySchool_ReadPassCount.head()\n"
   ]
  },
  {
   "cell_type": "code",
   "execution_count": null,
   "metadata": {},
   "outputs": [],
   "source": [
    "#Merge the Pass Data Frames on the name of school\n",
    "merged_PassCount = pd.merge(BySchool_MathPassCount , BySchool_ReadPassCount, on=\"school\")\n",
    "merged_PassCount.head()"
   ]
  },
  {
   "cell_type": "code",
   "execution_count": null,
   "metadata": {},
   "outputs": [],
   "source": [
    "#Merge the Score and Pass Data Frames on the name of school\n",
    "merged_Scores_PassCount = pd.merge(merged_scores , merged_PassCount, on=\"school\")\n",
    "merged_Scores_PassCount.head()"
   ]
  },
  {
   "cell_type": "code",
   "execution_count": null,
   "metadata": {},
   "outputs": [],
   "source": [
    "merged_school_studentData = pd.merge(reduced_school_count , merged_Scores_PassCount, on=\"school\")\n",
    "merged_school_studentData.head()"
   ]
  },
  {
   "cell_type": "code",
   "execution_count": null,
   "metadata": {},
   "outputs": [],
   "source": [
    "# Calculate percentage of Math Pass Rate and add to column \n",
    "merged_school_studentData[\"% Passing Math\"] = merged_school_studentData[\"math_score\"] / merged_school_studentData[\"Total Students\"] * 100\n",
    "\n",
    "# Sort results in descending order\n",
    "#merged_df = merged_df.sort_values([\"% Recommend\"], ascending=False).round(2)\n",
    "\n",
    "merged_school_studentData.head()"
   ]
  },
  {
   "cell_type": "code",
   "execution_count": null,
   "metadata": {},
   "outputs": [],
   "source": [
    "# Calculate percentage of Math Pass Rate and add to column \n",
    "merged_school_studentData[\"% Passing Reading\"] = merged_school_studentData[\"reading_score\"] / merged_school_studentData[\"Total Students\"] * 100\n",
    "\n",
    "# Sort results in descending order\n",
    "#merged_df = merged_df.sort_values([\"% Recommend\"], ascending=False).round(2)\n",
    "\n",
    "\n",
    "merged_school_studentData.head()"
   ]
  },
  {
   "cell_type": "code",
   "execution_count": null,
   "metadata": {},
   "outputs": [],
   "source": [
    "merged_school_studentData = merged_school_studentData.rename(columns={\"school\":\"\"})\n",
    "merged_school_studentData.head()"
   ]
  },
  {
   "cell_type": "code",
   "execution_count": null,
   "metadata": {},
   "outputs": [],
   "source": [
    "# Calculate percentage of Math Pass Rate and add to column \n",
    "merged_school_studentData[\"% Overall Passing Rate\"] = (merged_school_studentData[\"% Passing Math\"] + merged_school_studentData[\"% Passing Reading\"]) / 2\n",
    "#merged_school_studentData.dtypes\n",
    "\n",
    "#merged_school_studentData[\"% Passing Math\"] = pd.to_numeric(merged_school_studentData[\"% Passing Math\"])\n",
    "# Sort results in descending order\n",
    "#merged_df = merged_df.sort_values([\"% Recommend\"], ascending=False).round(2)\n",
    "\n",
    "#Get Data for Top 5 and botttom 5 performing schools \n",
    "# Sort results in descending order\n",
    "sorted_desc_OverallPassRate = merged_school_studentData([\"% Overall Passing Rate\"], ascending=False).round(2)\n",
    "\n",
    "# Format for percentages\n",
    "merged_school_studentData[\"% Passing Reading\"] = merged_school_studentData[\"% Passing Reading\"].map(\"{0:,.2f}%\".format)\n",
    "# Format for percentages\n",
    "merged_school_studentData[\"% Passing Math\"] = merged_school_studentData[\"% Passing Math\"].map(\"{0:,.2f}%\".format)\n",
    "\n",
    "merged_school_studentData[\"% Overall Passing Rate\"] = merged_school_studentData[\"% Overall Passing Rate\"].map(\"{0:,.2f}%\".format)\n",
    "\n",
    "merged_school_studentData.head()\n",
    "\n",
    "merged_school_studentData.drop(['math_score'], axis = 1, inplace = True)\n",
    "merged_school_studentData.drop(['reading_score'], axis = 1, inplace = True)\n",
    "\n",
    "print (\"School Summary\")\n",
    "merged_school_studentData.head()\n",
    "\n",
    "\n",
    "\n",
    "#Drop the unneded columns and pill in only what u need for School Summary \n",
    "#final_students_data = merged_school_studentData.iloc[:,[0,1,2,3,4,5,6,9,10,11]]\n",
    "\n",
    "#final_students_data.reset_index(level=0, inplace=True)\n",
    "#final_students_data.head()"
   ]
  },
  {
   "cell_type": "code",
   "execution_count": null,
   "metadata": {
    "collapsed": true
   },
   "outputs": [],
   "source": [
    "sorted_desc_OverallPassRate.head()"
   ]
  }
 ],
 "metadata": {
  "kernelspec": {
   "display_name": "Python 3",
   "language": "python",
   "name": "python3"
  },
  "language_info": {
   "codemirror_mode": {
    "name": "ipython",
    "version": 3
   },
   "file_extension": ".py",
   "mimetype": "text/x-python",
   "name": "python",
   "nbconvert_exporter": "python",
   "pygments_lexer": "ipython3",
   "version": "3.6.2"
  }
 },
 "nbformat": 4,
 "nbformat_minor": 2
}
